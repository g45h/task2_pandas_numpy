{
 "cells": [
  {
   "cell_type": "markdown",
   "id": "d3df79dd",
   "metadata": {},
   "source": [
    "## Упражнения по библиотеке Numpy"
   ]
  },
  {
   "cell_type": "code",
   "execution_count": 1,
   "id": "76b9c43b",
   "metadata": {},
   "outputs": [],
   "source": [
    "from functools import reduce\n",
    "import numpy as np\n",
    "import scipy\n",
    "import random\n",
    "import time"
   ]
  },
  {
   "cell_type": "markdown",
   "id": "03727b7c",
   "metadata": {},
   "source": [
    "**1.** Дан случайный массив, поменять знак у элементов, значения которых между 3 и 8"
   ]
  },
  {
   "cell_type": "code",
   "execution_count": 24,
   "id": "b89a7523",
   "metadata": {},
   "outputs": [
    {
     "name": "stdout",
     "output_type": "stream",
     "text": [
      "[[5]\n",
      " [4]\n",
      " [6]\n",
      " [4]\n",
      " [4]\n",
      " [2]\n",
      " [7]\n",
      " [5]\n",
      " [4]\n",
      " [8]]\n",
      "[[-5]\n",
      " [-4]\n",
      " [-6]\n",
      " [-4]\n",
      " [-4]\n",
      " [ 2]\n",
      " [-7]\n",
      " [-5]\n",
      " [-4]\n",
      " [ 8]]\n"
     ]
    }
   ],
   "source": [
    "arr = np.random.randint(10, size = (10,1))\n",
    "print(arr)\n",
    "for idx, a in enumerate(arr):\n",
    "    if((a > 3) & (a < 8)):\n",
    "        arr[idx] = -a\n",
    "print(arr)"
   ]
  },
  {
   "cell_type": "markdown",
   "id": "5fa4abda",
   "metadata": {},
   "source": [
    "**2.** Заменить максимальный элемент случайного массива на 0"
   ]
  },
  {
   "cell_type": "code",
   "execution_count": 36,
   "id": "161f7ea6",
   "metadata": {},
   "outputs": [
    {
     "name": "stdout",
     "output_type": "stream",
     "text": [
      "[[9]\n",
      " [0]\n",
      " [1]\n",
      " [5]\n",
      " [6]\n",
      " [6]\n",
      " [0]\n",
      " [8]\n",
      " [9]\n",
      " [3]] \n",
      " max value is 9\n",
      "[[0]\n",
      " [0]\n",
      " [1]\n",
      " [5]\n",
      " [6]\n",
      " [6]\n",
      " [0]\n",
      " [8]\n",
      " [0]\n",
      " [3]] new max value is 8\n"
     ]
    }
   ],
   "source": [
    "arr = np.random.randint(10, size = (10,1))\n",
    "print(arr, \"\\n max value is\", arr.max())\n",
    "for idx, a in enumerate(arr):\n",
    "    if(a == arr.max()):\n",
    "        arr[idx] = 0\n",
    "print(arr, \"new max value is\", arr.max())"
   ]
  },
  {
   "cell_type": "markdown",
   "id": "3cac656b",
   "metadata": {},
   "source": [
    "**3.** Построить прямое произведение массивов (все комбинации с каждым элементом). На вход подается двумерный массив"
   ]
  },
  {
   "cell_type": "code",
   "execution_count": 37,
   "id": "3396b764",
   "metadata": {},
   "outputs": [
    {
     "name": "stdout",
     "output_type": "stream",
     "text": [
      "first array:\n",
      " [[6 1]\n",
      " [9 0]] \n",
      "second array:\n",
      " [[9 6]\n",
      " [2 0]]\n",
      "['[6 1][9 6]', '[6 1][2 0]', '[9 0][9 6]', '[9 0][2 0]']\n"
     ]
    }
   ],
   "source": [
    "x = np.random.randint(10, size = (2,2))\n",
    "y = np.random.randint(10, size = (2,2))\n",
    "\n",
    "print(\"first array:\\n\", x, \"\\nsecond array:\\n\", y)\n",
    "\n",
    "cartesian_product = []\n",
    "for i in range(len(x)):\n",
    "    for j in range(len(y)):\n",
    "        cartesian_product.append(str(x[i]) + str(y[j]))\n",
    "\n",
    "print(cartesian_product)\n"
   ]
  },
  {
   "cell_type": "markdown",
   "id": "674c9354",
   "metadata": {},
   "source": [
    "**4.** Даны 2 массива A (8x3) и B (2x2). Найти строки в A, которые содержат элементы из каждой строки в B, независимо от порядка элементов в B"
   ]
  },
  {
   "cell_type": "code",
   "execution_count": 47,
   "id": "cb664782",
   "metadata": {},
   "outputs": [
    {
     "name": "stdout",
     "output_type": "stream",
     "text": [
      "first array:\n",
      " [[8 9 3]\n",
      " [0 7 5]\n",
      " [6 6 7]\n",
      " [0 4 7]\n",
      " [5 3 0]\n",
      " [3 7 4]\n",
      " [0 2 7]\n",
      " [8 1 6]] \n",
      "second array:\n",
      " [[4 9]\n",
      " [7 0]]\n",
      "[array([0, 4, 7]), array([3, 7, 4])]\n"
     ]
    }
   ],
   "source": [
    "A = np.random.randint(10, size = (8,3))\n",
    "B = np.random.randint(10, size = (2,2))\n",
    "\n",
    "print(\"first array:\\n\", A, \"\\nsecond array:\\n\", B)\n",
    "\n",
    "b_row1 = B[0,:]\n",
    "b_row2 = B[1,:]\n",
    "\n",
    "result = []\n",
    "\n",
    "for row_A in A:\n",
    "    first_row = 0\n",
    "    second_row = 0\n",
    "    for number in row_A:\n",
    "        for value_B_row1 in b_row1:\n",
    "            if number == value_B_row1:\n",
    "                first_row = 1\n",
    "        for value_B_row2 in b_row2:\n",
    "            if number == value_B_row2:\n",
    "                second_row = 1\n",
    "    if ((first_row > 0) & (second_row > 0)):\n",
    "        result.append(row_A)\n",
    "        \n",
    "print(result)"
   ]
  },
  {
   "cell_type": "markdown",
   "id": "fa46533b",
   "metadata": {},
   "source": [
    "**5.** Дана 10x3 матрица, найти строки из неравных значений (например строка [2,2,3] остается, строка [3,3,3] удаляется)"
   ]
  },
  {
   "cell_type": "code",
   "execution_count": 68,
   "id": "fa545b23",
   "metadata": {},
   "outputs": [
    {
     "name": "stdout",
     "output_type": "stream",
     "text": [
      "[[2 3 4]\n",
      " [3 3 3]\n",
      " [8 4 5]\n",
      " [4 7 0]\n",
      " [1 1 1]\n",
      " [5 3 1]\n",
      " [7 3 6]\n",
      " [0 0 0]\n",
      " [7 4 3]\n",
      " [8 3 5]]\n",
      "[[2 3 4]\n",
      " [8 4 5]\n",
      " [4 7 0]\n",
      " [5 3 1]\n",
      " [7 3 6]\n",
      " [7 4 3]\n",
      " [8 3 5]]\n"
     ]
    }
   ],
   "source": [
    "A = np.array([[2,3,4], [3,3,3], [8,4,5], [4,7,0], [1,1,1], [5,3,1], [7,3,6], [0,0,0], [7,4,3], [8,3,5]])\n",
    "print(A)\n",
    "\n",
    "nonuniwue_rows = []\n",
    "for i, row in enumerate(A):\n",
    "    if np.unique(row).size == 1:\n",
    "        nonuniwue_rows.append(i)\n",
    "        \n",
    "result = np.delete(A, nonuniwue_rows, axis = 0)\n",
    "print(result)"
   ]
  },
  {
   "cell_type": "markdown",
   "id": "28f0d116",
   "metadata": {},
   "source": [
    "**6.** Дан двумерный массив. Удалить те строки, которые повторяются"
   ]
  },
  {
   "cell_type": "code",
   "execution_count": 81,
   "id": "83d2c0b7",
   "metadata": {},
   "outputs": [
    {
     "name": "stdout",
     "output_type": "stream",
     "text": [
      "[[2 3 4]\n",
      " [8 4 5]\n",
      " [8 4 5]\n",
      " [3 3 3]\n",
      " [8 4 5]\n",
      " [5 3 1]\n",
      " [7 3 6]\n",
      " [3 3 3]\n",
      " [7 4 3]\n",
      " [8 3 5]]\n",
      "[[2 3 4]\n",
      " [8 4 5]\n",
      " [5 3 1]\n",
      " [7 3 6]\n",
      " [3 3 3]\n",
      " [7 4 3]\n",
      " [8 3 5]]\n"
     ]
    }
   ],
   "source": [
    "A = np.array([[2,3,4], [8,4,5], [8,4,5], [3,3,3], [8,4,5], [5,3,1], [7,3,6], [3,3,3], [7,4,3], [8,3,5]])\n",
    "print(A)\n",
    "\n",
    "repeating_lines = []\n",
    "for i, row1 in enumerate(A):\n",
    "    for j, row2 in enumerate(A):\n",
    "        if i != j and np.array_equal(row1, row2) and j not in repeating_lines:\n",
    "            repeating_lines.append(i)\n",
    "        \n",
    "result = np.delete(A, repeating_lines, axis = 0)\n",
    "print(result)"
   ]
  },
  {
   "cell_type": "markdown",
   "id": "6daa9e37",
   "metadata": {},
   "source": [
    "______\n",
    "______"
   ]
  },
  {
   "cell_type": "markdown",
   "id": "cfbfcaff",
   "metadata": {},
   "source": [
    "Для каждой из следующих задач (1-5) нужно привести 2 реализации – одна без использования numpy (cчитайте, что там, где на входе или выходе должны быть numpy array, будут просто списки), а вторая полностью векторизованная с использованием numpy (без использования питоновских циклов/map/list comprehension).\n",
    "\n",
    "\n",
    "__Замечание 1.__ Можно считать, что все указанные объекты непустые (к примеру, в __задаче 1__ на диагонали матрицы есть ненулевые элементы).\n",
    "\n",
    "__Замечание 2.__ Для большинства задач решение занимает не больше 1-2 строк."
   ]
  },
  {
   "cell_type": "markdown",
   "id": "673cac7f",
   "metadata": {},
   "source": [
    "___"
   ]
  },
  {
   "cell_type": "markdown",
   "id": "ca6f585e",
   "metadata": {},
   "source": [
    "* __Задача 1__: Подсчитать произведение ненулевых элементов на диагонали прямоугольной матрицы.  \n",
    " Например, для X = np.array([[1, 0, 1], [2, 0, 2], [3, 0, 3], [4, 4, 4]]) ответ 3."
   ]
  },
  {
   "cell_type": "code",
   "execution_count": 134,
   "id": "065862fc",
   "metadata": {},
   "outputs": [
    {
     "name": "stdout",
     "output_type": "stream",
     "text": [
      "matrix: \n",
      " [[2 8 0]\n",
      " [1 3 2]\n",
      " [3 6 9]\n",
      " [4 5 7]]\n",
      "\n",
      "diagonal:  [2 3 9]\n",
      "\n",
      "numpy result:  54\n",
      "\n",
      "matrix:  [[4, 6, 5, 6], [1, 8, 5, 2], [1, 6, 1, 3], [5, 2, 4, 1], [4, 8, 0, 6]]\n",
      "\n",
      "diagonal:  [4, 8, 1, 1]\n",
      "\n",
      "native result:  32\n"
     ]
    }
   ],
   "source": [
    "#np realization\n",
    "A = np.random.randint(10, size = (4,3))\n",
    "print(\"matrix: \\n\", A)\n",
    "diagonal = np.diag(A)\n",
    "print(\"\\ndiagonal: \", diagonal)\n",
    "filtered = diagonal[diagonal != 0]\n",
    "result = np.prod(filtered)\n",
    "print(\"\\nnumpy result: \", result)\n",
    "\n",
    "\n",
    "#random list to matrix creation \n",
    "def create_random_matrix(rows, columns):\n",
    "    matrix = []\n",
    "    for i in range(rows):\n",
    "        row = [random.randint(0, 9) for i in range(columns)]\n",
    "        matrix.append(row)\n",
    "    return matrix\n",
    "\n",
    "#native realization\n",
    "B = create_random_matrix(5,4)\n",
    "print(\"\\nmatrix: \", B)\n",
    "for i in range(len(B[0]), len(B)):\n",
    "    B.pop()\n",
    "diagonal = []\n",
    "for idx, i in enumerate(B):\n",
    "    if i[idx] != 0:\n",
    "        diagonal.append(i[idx])\n",
    "print(\"\\ndiagonal: \", diagonal)\n",
    "result = reduce((lambda x, y: x * y), diagonal)\n",
    "print(\"\\nnative result: \", result)"
   ]
  },
  {
   "cell_type": "markdown",
   "id": "9fc51d41",
   "metadata": {},
   "source": [
    "* __Задача 2__: Даны два вектора x и y. Проверить, задают ли они одно и то же мультимножество.  \n",
    "  Например, для x = np.array([1, 2, 2, 4]), y = np.array([4, 2, 1, 2]) ответ True."
   ]
  },
  {
   "cell_type": "code",
   "execution_count": 55,
   "id": "a809e02f",
   "metadata": {},
   "outputs": [
    {
     "name": "stdout",
     "output_type": "stream",
     "text": [
      "fist vector is:\n",
      " [8 3 6 9 4] \n",
      "second vector is:\n",
      " [8 1 4 2 8]\n",
      "vectors do not define the same multiset\n",
      "vectors do not define the same multiset\n"
     ]
    }
   ],
   "source": [
    "x = np.random.randint(0, 10, 5)\n",
    "y = np.random.randint(0, 10, 5)\n",
    "# x = np.array([1,2,2,4])\n",
    "# y = np.array([4,2,1,2])\n",
    "print(\"fist vector is:\\n\", x, \"\\nsecond vector is:\\n\", y)\n",
    "\n",
    "#numpy realization\n",
    "if np.array_equal(np.sort(x), np.sort(y)):\n",
    "    print(\"vectors define the same multiset\")\n",
    "else:\n",
    "    print(\"vectors do not define the same multiset\")\n",
    "    \n",
    "#native realization\n",
    "if sorted(x) == sorted(y):\n",
    "    print(\"vectors define the same multiset\")\n",
    "else:\n",
    "    print(\"vectors do not define the same multiset\")"
   ]
  },
  {
   "cell_type": "markdown",
   "id": "b9c185c7",
   "metadata": {},
   "source": [
    "* __Задача 3__: Найти максимальный элемент в векторе x среди элементов, перед которыми стоит ноль. \n",
    " Например, для x = np.array([6, 2, 0, 3, 0, 0, 5, 7, 0]) ответ 5."
   ]
  },
  {
   "cell_type": "code",
   "execution_count": 95,
   "id": "b57df008",
   "metadata": {},
   "outputs": [
    {
     "name": "stdout",
     "output_type": "stream",
     "text": [
      "vector:\n",
      " [6 2 0 3 0 0 5 7 0]\n",
      "Maximum element:  5\n",
      "Maximum element:  5\n"
     ]
    }
   ],
   "source": [
    "x = np.array([6, 2, 0, 3, 0, 0, 5, 7, 0])\n",
    "#x = np.random.randint(0, 10, 9)\n",
    "print(\"vector:\\n\", x)\n",
    "indices = np.where((x[:-1] == 0) & (x[1:] != 0))[0]\n",
    "indices = indices + 1\n",
    "max_element = np.max(x[indices])\n",
    "print(\"Maximum element: \", max_element)\n",
    "\n",
    "#native realization\n",
    "afternull = []\n",
    "for i in range(1, len(x)):\n",
    "    if ((x[i-1] == 0) & (x[i] != 0)):\n",
    "        afternull.append(x[i])\n",
    "result = max(afternull)\n",
    "print(\"Maximum element: \", result)"
   ]
  },
  {
   "cell_type": "markdown",
   "id": "480be4ce",
   "metadata": {},
   "source": [
    "* __Задача 4__: Реализовать кодирование длин серий (Run-length encoding). Для некоторого вектора x необходимо вернуть кортеж из двух векторов одинаковой длины. Первый содержит числа, а второй - сколько раз их нужно повторить.  \n",
    " Например, для x = np.array([2, 2, 2, 3, 3, 3, 5]) ответ (np.array([2, 3, 5]), np.array([3, 3, 1]))."
   ]
  },
  {
   "cell_type": "code",
   "execution_count": 104,
   "id": "3c592124",
   "metadata": {},
   "outputs": [
    {
     "name": "stdout",
     "output_type": "stream",
     "text": [
      "vector:\n",
      " [0 9 2 7 6 4 8 4 4]\n",
      "values in x:\n",
      " [0 2 4 6 7 8 9] \n",
      "counts in x:\n",
      " [1 1 3 1 1 1 1]\n",
      "values in x:\n",
      " [0, 9, 2, 7, 6, 4, 8] \n",
      "counts in x:\n",
      " [1, 1, 1, 1, 1, 3, 1]\n"
     ]
    }
   ],
   "source": [
    "#x = np.array([2, 2, 2, 3, 3, 3, 5])\n",
    "x = np.random.randint(0, 10, 9)\n",
    "print(\"vector:\\n\", x)\n",
    "\n",
    "#numpy realization\n",
    "values, counts = np.unique(x, return_counts=True)\n",
    "print(\"values in x:\\n\", values, \"\\ncounts in x:\\n\", counts)\n",
    "\n",
    "#native realization\n",
    "values = []\n",
    "counts = []\n",
    "for i in x:\n",
    "    entries = 0\n",
    "    if i not in values:\n",
    "        values.append(i)\n",
    "        for j in x:\n",
    "            if i == j:\n",
    "                entries = entries +1\n",
    "        counts.append(entries)\n",
    "\n",
    "print(\"values in x:\\n\", values, \"\\ncounts in x:\\n\", counts)"
   ]
  },
  {
   "cell_type": "markdown",
   "id": "077532ec",
   "metadata": {},
   "source": [
    "* __Задача 5__: Даны две выборки объектов - X и Y. Вычислить матрицу евклидовых расстояний между объектами. Сравните с функцией scipy.spatial.distance.cdist по скорости работы."
   ]
  },
  {
   "cell_type": "code",
   "execution_count": 137,
   "id": "1e807797",
   "metadata": {},
   "outputs": [
    {
     "name": "stdout",
     "output_type": "stream",
     "text": [
      "fist vector is:\n",
      " [1 2 3] \n",
      "second vector is:\n",
      " [4 5 6]\n",
      "\n",
      "numpy realization:\n",
      " 5.196152422706632 \n",
      "time consumed:\n",
      " 0.0002219676971435547\n",
      "\n",
      "scipy realization:\n",
      " 5.196152422706632 \n",
      "time consumed:\n",
      " 5.745887756347656e-05\n",
      "\n",
      "manual realization:\n",
      " 5.196152422706632 \n",
      "time consumed:\n",
      " 7.82012939453125e-05\n"
     ]
    }
   ],
   "source": [
    "x = np.array((1, 2, 3))\n",
    "y = np.array((4, 5, 6))\n",
    "print(\"fist vector is:\\n\", x, \"\\nsecond vector is:\\n\", y)\n",
    "\n",
    "st = time.time()\n",
    "euclidean_distance = np.linalg.norm(a - b)\n",
    "et = time.time()\n",
    "print(\"\\nnumpy realization:\\n\", euclidean_distance, \"\\ntime consumed:\\n\", et - st)\n",
    "\n",
    "st = time.time()\n",
    "euclidean_distance1 = scipy.spatial.distance.euclidean(a, b)\n",
    "et = time.time()\n",
    "print(\"\\nscipy realization:\\n\", euclidean_distance1, \"\\ntime consumed:\\n\", et - st)\n",
    "\n",
    "st = time.time()\n",
    "sum = 0\n",
    "for i in range(len(a)):\n",
    "    sum = sum + (a[i] - b[i])**2\n",
    "result = sum**(1/2)\n",
    "et = time.time()\n",
    "print(\"\\nmanual realization:\\n\", result, \"\\ntime consumed:\\n\", et - st)"
   ]
  },
  {
   "cell_type": "markdown",
   "id": "973e8064",
   "metadata": {},
   "source": [
    "_______\n",
    "________"
   ]
  },
  {
   "cell_type": "markdown",
   "id": "1104acb7",
   "metadata": {},
   "source": [
    "* #### __Задача 6__: CrunchieMunchies __*__\n",
    "\n",
    "Вы работаете в отделе маркетинга пищевой компании MyCrunch, которая разрабатывает новый вид вкусных, полезных злаков под названием **CrunchieMunchies**.\n",
    "\n",
    "Вы хотите продемонстрировать потребителям, насколько полезны ваши хлопья по сравнению с другими ведущими брендами, поэтому вы собрали данные о питании нескольких разных конкурентов.\n",
    "\n",
    "Ваша задача - использовать вычисления Numpy для анализа этих данных и доказать, что ваши **СrunchieMunchies** - самый здоровый выбор для потребителей.\n"
   ]
  },
  {
   "cell_type": "code",
   "execution_count": 138,
   "id": "10a77f8d",
   "metadata": {},
   "outputs": [],
   "source": [
    "import numpy as np"
   ]
  },
  {
   "cell_type": "markdown",
   "id": "ab87cb03",
   "metadata": {},
   "source": [
    "1. Просмотрите файл cereal.csv. Этот файл содержит количества калорий для различных марок хлопьев. Загрузите данные из файла и сохраните их как calorie_stats."
   ]
  },
  {
   "cell_type": "code",
   "execution_count": 2,
   "id": "9681ebf2",
   "metadata": {},
   "outputs": [
    {
     "data": {
      "text/plain": [
       "array([ 70., 120.,  70.,  50., 110., 110., 110., 130.,  90.,  90., 120.,\n",
       "       110., 120., 110., 110., 110., 100., 110., 110., 110., 100., 110.,\n",
       "       100., 100., 110., 110., 100., 120., 120., 110., 100., 110., 100.,\n",
       "       110., 120., 120., 110., 110., 110., 140., 110., 100., 110., 100.,\n",
       "       150., 150., 160., 100., 120., 140.,  90., 130., 120., 100.,  50.,\n",
       "        50., 100., 100., 120., 100.,  90., 110., 110.,  80.,  90.,  90.,\n",
       "       110., 110.,  90., 110., 140., 100., 110., 110., 100., 100., 110.])"
      ]
     },
     "execution_count": 2,
     "metadata": {},
     "output_type": "execute_result"
    }
   ],
   "source": [
    "calorie_stats = np.loadtxt(\"cereal.csv\", delimiter=\",\")\n",
    "calorie_stats"
   ]
  },
  {
   "cell_type": "markdown",
   "id": "139cfbd8",
   "metadata": {},
   "source": [
    "2. В одной порции CrunchieMunchies содержится 60 калорий. Насколько выше среднее количество калорий у ваших конкурентов?\n",
    "\n",
    "Сохраните ответ в переменной average_calories и распечатайте переменную в терминале"
   ]
  },
  {
   "cell_type": "code",
   "execution_count": 3,
   "id": "7036d240",
   "metadata": {},
   "outputs": [
    {
     "name": "stdout",
     "output_type": "stream",
     "text": [
      "106.88311688311688\n"
     ]
    }
   ],
   "source": [
    "average_calories = np.average(calorie_stats)\n",
    "print(average_calories)"
   ]
  },
  {
   "cell_type": "markdown",
   "id": "b2ddb4cd",
   "metadata": {},
   "source": [
    "3. Корректно ли среднее количество калорий отражает распределение набора данных? Давайте отсортируем данные и посмотрим.\n",
    "\n",
    "Отсортируйте данные и сохраните результат в переменной calorie_stats_sorted. Распечатайте отсортированную информацию"
   ]
  },
  {
   "cell_type": "code",
   "execution_count": 36,
   "id": "46eeb4ed",
   "metadata": {},
   "outputs": [
    {
     "name": "stdout",
     "output_type": "stream",
     "text": [
      "[50.0, 50.0, 50.0, 70.0, 70.0, 80.0, 90.0, 90.0, 90.0, 90.0, 90.0, 90.0, 90.0, 100.0, 100.0, 100.0, 100.0, 100.0, 100.0, 100.0, 100.0, 100.0, 100.0, 100.0, 100.0, 100.0, 100.0, 100.0, 100.0, 100.0, 110.0, 110.0, 110.0, 110.0, 110.0, 110.0, 110.0, 110.0, 110.0, 110.0, 110.0, 110.0, 110.0, 110.0, 110.0, 110.0, 110.0, 110.0, 110.0, 110.0, 110.0, 110.0, 110.0, 110.0, 110.0, 110.0, 110.0, 110.0, 110.0, 120.0, 120.0, 120.0, 120.0, 120.0, 120.0, 120.0, 120.0, 120.0, 120.0, 130.0, 130.0, 140.0, 140.0, 140.0, 150.0, 150.0, 160.0]\n",
      "77\n"
     ]
    }
   ],
   "source": [
    "calorie_stats_sorted = sorted(calorie_stats)\n",
    "print(calorie_stats_sorted)\n",
    "print(len(calorie_stats_sorted))"
   ]
  },
  {
   "cell_type": "markdown",
   "id": "4dc74116",
   "metadata": {},
   "source": [
    "4. Похоже, что большинство значений выше среднего. Давайте посмотрим, является ли медиана наиболее корректным показателем набора данных.\n",
    "\n",
    "Вычислите медиану набора данных и сохраните свой ответ в median_calories. Выведите медиану, чтобы вы могли видеть, как она сравнивается со средним значением."
   ]
  },
  {
   "cell_type": "code",
   "execution_count": 5,
   "id": "b56627c3",
   "metadata": {},
   "outputs": [
    {
     "name": "stdout",
     "output_type": "stream",
     "text": [
      "110.0\n"
     ]
    }
   ],
   "source": [
    "median_calories = np.median(calorie_stats)\n",
    "print(median_calories)"
   ]
  },
  {
   "cell_type": "markdown",
   "id": "a63ab72f",
   "metadata": {},
   "source": [
    "5. В то время как медиана показывает, что по крайней мере половина наших значений составляет более 100 калорий, было бы более впечатляюще показать, что значительная часть конкурентов имеет более высокое количество калорий, чем CrunchieMunchies.\n",
    "\n",
    "Рассчитайте различные процентили и распечатайте их, пока не найдете наименьший процентиль, превышающий 60 калорий. Сохраните это значение в переменной nth_percentile."
   ]
  },
  {
   "cell_type": "code",
   "execution_count": 32,
   "id": "fe80ce03",
   "metadata": {},
   "outputs": [
    {
     "name": "stdout",
     "output_type": "stream",
     "text": [
      "{3.0: 55.599999999999994, 3.01: 55.751999999999995, 3.0199999999999996: 55.90399999999999, 3.0299999999999994: 56.05599999999999, 3.039999999999999: 56.20799999999999, 3.049999999999999: 56.359999999999985, 3.0599999999999987: 56.511999999999986, 3.0699999999999985: 56.66399999999997, 3.0799999999999983: 56.815999999999974, 3.089999999999998: 56.96799999999997, 3.099999999999998: 57.11999999999997, 3.1099999999999977: 57.27199999999996, 3.1199999999999974: 57.423999999999964, 3.1299999999999972: 57.57599999999996, 3.139999999999997: 57.72799999999996, 3.149999999999997: 57.87999999999995, 3.1599999999999966: 58.031999999999954, 3.1699999999999964: 58.18399999999994, 3.179999999999996: 58.33599999999994, 3.189999999999996: 58.487999999999936, 3.1999999999999957: 58.63999999999994, 3.2099999999999955: 58.79199999999993, 3.2199999999999953: 58.94399999999992, 3.229999999999995: 59.09599999999993, 3.239999999999995: 59.24799999999992, 3.2499999999999947: 59.39999999999991, 3.2599999999999945: 59.55199999999991, 3.2699999999999942: 59.703999999999915, 3.279999999999994: 59.85599999999991, 3.289999999999994: 60.0079999999999, 3.2999999999999936: 60.15999999999991, 3.3099999999999934: 60.311999999999905, 3.319999999999993: 60.4639999999999, 3.329999999999993: 60.615999999999886, 3.3399999999999928: 60.7679999999999, 3.3499999999999925: 60.91999999999989, 3.3599999999999923: 61.07199999999988, 3.369999999999992: 61.22399999999988, 3.379999999999992: 61.37599999999988, 3.3899999999999917: 61.52799999999988, 3.3999999999999915: 61.679999999999865, 3.4099999999999913: 61.831999999999866, 3.419999999999991: 61.98399999999986, 3.429999999999991: 62.13599999999986, 3.4399999999999906: 62.287999999999855, 3.4499999999999904: 62.439999999999856, 3.45999999999999: 62.59199999999985, 3.46999999999999: 62.74399999999984, 3.4799999999999898: 62.89599999999985, 3.4899999999999896: 63.047999999999845, 3.4999999999999893: 63.19999999999983, 3.509999999999989: 63.351999999999826, 3.519999999999989: 63.503999999999834, 3.5299999999999887: 63.65599999999983, 3.5399999999999885: 63.80799999999982, 3.5499999999999883: 63.95999999999983, 3.559999999999988: 64.11199999999982, 3.569999999999988: 64.26399999999981, 3.5799999999999876: 64.41599999999981, 3.5899999999999874: 64.56799999999981, 3.599999999999987: 64.71999999999981, 3.609999999999987: 64.8719999999998, 3.619999999999987: 65.0239999999998, 3.6299999999999866: 65.17599999999979, 3.6399999999999864: 65.32799999999979, 3.649999999999986: 65.47999999999979, 3.659999999999986: 65.63199999999979, 3.6699999999999857: 65.78399999999978, 3.6799999999999855: 65.93599999999978, 3.6899999999999853: 66.08799999999977, 3.699999999999985: 66.23999999999978, 3.709999999999985: 66.39199999999977, 3.7199999999999847: 66.54399999999976, 3.7299999999999844: 66.69599999999977, 3.7399999999999842: 66.84799999999976, 3.749999999999984: 66.99999999999976, 3.759999999999984: 67.15199999999975, 3.7699999999999836: 67.30399999999976, 3.7799999999999834: 67.45599999999975, 3.789999999999983: 67.60799999999973, 3.799999999999983: 67.75999999999975, 3.8099999999999827: 67.91199999999974, 3.8199999999999825: 68.06399999999974, 3.8299999999999823: 68.21599999999972, 3.839999999999982: 68.36799999999974, 3.849999999999982: 68.51999999999973, 3.8599999999999817: 68.67199999999971, 3.8699999999999815: 68.82399999999973, 3.8799999999999812: 68.97599999999971, 3.889999999999981: 69.12799999999972, 3.899999999999981: 69.2799999999997, 3.9099999999999806: 69.4319999999997, 3.9199999999999804: 69.5839999999997, 3.92999999999998: 69.7359999999997, 3.93999999999998: 69.88799999999969, 3.9499999999999797: 70.0, 3.9599999999999795: 70.0, 3.9699999999999793: 70.0, 3.979999999999979: 70.0, 3.989999999999979: 70.0}\n",
      "\n",
      "lowest percentile over 60 calories:\n",
      " 3.289999999999994 60.0079999999999\n"
     ]
    }
   ],
   "source": [
    "keys = np.arange(3, 4, 0.01)\n",
    "values = []\n",
    "dict = {}\n",
    "for idx, i in enumerate(keys):\n",
    "    values.append(np.percentile(calorie_stats, i))\n",
    "    dict[keys[idx]] = values[idx]\n",
    "\n",
    "print(dict)\n",
    "for i in keys:\n",
    "    if dict[i] < 60:\n",
    "        dict.pop(i)\n",
    "        \n",
    "nth_percentile = list(dict.items())[0][0]\n",
    "print(\"\\nlowest percentile over 60 calories:\\n\", nth_percentile, np.percentile(calorie_stats, nth_percentile))"
   ]
  },
  {
   "cell_type": "markdown",
   "id": "a2a3c5aa",
   "metadata": {},
   "source": [
    "6. Хотя процентиль показывает нам, что у большинства конкурентов количество калорий намного выше, это неудобная концепция для использования в маркетинговых материалах.\n",
    "\n",
    "Вместо этого давайте подсчитаем процент хлопьев, в которых содержится более 60 калорий на порцию. Сохраните свой ответ в переменной more_calories и распечатайте его"
   ]
  },
  {
   "cell_type": "code",
   "execution_count": 33,
   "id": "ade0f6ea",
   "metadata": {},
   "outputs": [
    {
     "name": "stdout",
     "output_type": "stream",
     "text": [
      "percentage of producers with calorie counts over 60:\n",
      " 96.1038961038961\n"
     ]
    }
   ],
   "source": [
    "more_calories = (np.sum(calorie_stats > 60) / len(calorie_stats)) * 100\n",
    "print(\"percentage of producers with calorie counts over 60:\\n\", more_calories)"
   ]
  },
  {
   "cell_type": "markdown",
   "id": "1735d65b",
   "metadata": {},
   "source": [
    "7. Это действительно высокий процент. Это будет очень полезно, когда мы будем продвигать CrunchieMunchies. Но один вопрос заключается в том, насколько велики различия в наборе данных? Можем ли мы сделать обобщение, что в большинстве злаков содержится около 100 калорий или разброс еще больше?\n",
    "\n",
    "Рассчитайте величину отклонения, найдя стандартное отклонение, Сохраните свой ответ в calorie_std и распечатайте на терминале. Как мы можем включить эту ценность в наш анализ?"
   ]
  },
  {
   "cell_type": "code",
   "execution_count": 34,
   "id": "85c8df1f",
   "metadata": {},
   "outputs": [
    {
     "name": "stdout",
     "output_type": "stream",
     "text": [
      "19.35718533390827\n"
     ]
    }
   ],
   "source": [
    "calorie_std = np.std(calorie_stats)\n",
    "print(calorie_std)"
   ]
  },
  {
   "cell_type": "markdown",
   "id": "037455c5",
   "metadata": {},
   "source": [
    "8. Напишите короткий абзац, в котором кратко изложите свои выводы и то, как, по вашему мнению, эти данные могут быть использованы в интересах Mycrunch при маркетинге CrunchieMunchies."
   ]
  },
  {
   "cell_type": "markdown",
   "id": "715c7132",
   "metadata": {},
   "source": [
    "Среднее значение: \n",
    "среднее (106) представляет собой среднее арифметическое набора данных, указывая на то, что в среднем количество калорий на порцию составляет около 106.\n",
    "CrunchieMunchies же содержат 60 каллорий на порцию и могут быть ориентированы на людей, которые следят за своим потреблением калорий или ищут более здоровые варианты хлопьев.\n",
    "\n",
    "Медиана: \n",
    "медиана (110) представляет собой среднее значение набора данных при сортировке в порядке возрастания, указывая на то, что половина данных имеет количество калорий на порцию ниже 110, а половина имеет большее количество калорий, что означает, что CrunchieMunchies предлагают значительное снижение калорий по сравнению с основным количеством доступных для потребителя хлопьев. Можно подчеркнуть потенциальную пользу для здоровья от употребления низкокалорийных хлопьев в составе сбалансированной диеты.\n",
    "\n",
    "Стандартное отклонение:\n",
    "стандартное отклонение (19,35718533390827) измеряет дисперсию точек данных вокруг среднего значения. Более высокое значение С.О. указывает на бОльшую изменчивость в наборе данных, что позволит нам выделить и позиционировать CrunchieMunchies как благоприятный выбор для тех, кто ищет определенное количество калорий без ущерба для вкуса или питательных свойств.\n",
    "\n",
    "Самый низкий процентиль: \n",
    "самый низкий процентиль, превышающий 60 калорий, составляет 3,289999999999994, указывая на то, что совсем небольшая часть производителей в нашем наборе данных имеет количество калорий ниже 60.\n",
    "\n",
    "Процент производителей: \n",
    "процент производителей с количеством калорий более 60 составляет 96,1038961038961%."
   ]
  }
 ],
 "metadata": {
  "kernelspec": {
   "display_name": "Python 3 (ipykernel)",
   "language": "python",
   "name": "python3"
  },
  "language_info": {
   "codemirror_mode": {
    "name": "ipython",
    "version": 3
   },
   "file_extension": ".py",
   "mimetype": "text/x-python",
   "name": "python",
   "nbconvert_exporter": "python",
   "pygments_lexer": "ipython3",
   "version": "3.10.6"
  }
 },
 "nbformat": 4,
 "nbformat_minor": 5
}
